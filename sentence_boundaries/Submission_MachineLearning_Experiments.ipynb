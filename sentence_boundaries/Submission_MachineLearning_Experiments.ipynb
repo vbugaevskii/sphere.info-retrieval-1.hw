{
 "cells": [
  {
   "cell_type": "code",
   "execution_count": 1,
   "metadata": {
    "collapsed": true
   },
   "outputs": [],
   "source": [
    "# -*- coding: utf-8 -*- \n",
    "\n",
    "import pandas as pd\n",
    "import numpy as np\n",
    "import json\n",
    "import io\n",
    "import random"
   ]
  },
  {
   "cell_type": "code",
   "execution_count": 2,
   "metadata": {
    "collapsed": false
   },
   "outputs": [
    {
     "data": {
      "text/plain": [
       "22676"
      ]
     },
     "execution_count": 2,
     "metadata": {},
     "output_type": "execute_result"
    }
   ],
   "source": [
    "train_data = []\n",
    "with io.open('train_data.json', 'r', encoding='utf8') as f:\n",
    "    for line in f.readlines():\n",
    "        d = json.loads(line)\n",
    "        train_data.append(d)\n",
    "\n",
    "len(train_data)"
   ]
  },
  {
   "cell_type": "code",
   "execution_count": 3,
   "metadata": {
    "collapsed": true
   },
   "outputs": [],
   "source": [
    "random.shuffle(train_data)"
   ]
  },
  {
   "cell_type": "code",
   "execution_count": 4,
   "metadata": {
    "collapsed": true
   },
   "outputs": [],
   "source": [
    "end_of_sentences = set()\n",
    "for paragraph in train_data:\n",
    "    for sentence in paragraph['Sentences']:\n",
    "        end_of_sentences.add(sentence[-1])"
   ]
  },
  {
   "cell_type": "code",
   "execution_count": 5,
   "metadata": {
    "collapsed": false
   },
   "outputs": [
    {
     "name": "stdout",
     "output_type": "stream",
     "text": [
      "!\n",
      "\"\n",
      "…\n",
      ".\n",
      "»\n",
      "?\n"
     ]
    }
   ],
   "source": [
    "for symbol in end_of_sentences:\n",
    "    print(symbol)"
   ]
  },
  {
   "cell_type": "code",
   "execution_count": 6,
   "metadata": {
    "collapsed": true
   },
   "outputs": [],
   "source": [
    "ends = list(end_of_sentences)"
   ]
  },
  {
   "cell_type": "code",
   "execution_count": 7,
   "metadata": {
    "collapsed": true
   },
   "outputs": [],
   "source": [
    "def get_all_stoppers(paragraph):\n",
    "    return [{'Pos': i, 'Mark': c} for i, c in enumerate(paragraph) if c in end_of_sentences]"
   ]
  },
  {
   "cell_type": "code",
   "execution_count": 8,
   "metadata": {
    "collapsed": true
   },
   "outputs": [],
   "source": [
    "def get_true_stoppers(paragraph, sentences):\n",
    "    pos = 0\n",
    "    stoppers = []\n",
    "    \n",
    "    for s in sentences:\n",
    "        pos += len(s) - 1\n",
    "        stoppers.append({'Pos' : pos, 'Mark' : s[-1]})\n",
    "        pos += 1\n",
    "        while pos < len(paragraph) and paragraph[pos].isspace():\n",
    "            pos += 1\n",
    "        \n",
    "    return stoppers"
   ]
  },
  {
   "cell_type": "code",
   "execution_count": 9,
   "metadata": {
    "collapsed": true
   },
   "outputs": [],
   "source": [
    "def sentence_length_backward(paragraph, i):\n",
    "    if i < 0:\n",
    "        return 0\n",
    "    \n",
    "    n_words = 0\n",
    "    flag = paragraph[i].isspace()\n",
    "    \n",
    "    while i >= 0 and (paragraph[i].isalnum() or paragraph[i].isspace()):\n",
    "        if paragraph[i].isspace() and not flag:\n",
    "            n_words += 1\n",
    "        flag = paragraph[i].isspace()\n",
    "        i -= 1\n",
    "    \n",
    "    if not flag:\n",
    "        n_words += 1\n",
    "        \n",
    "    return n_words"
   ]
  },
  {
   "cell_type": "code",
   "execution_count": 10,
   "metadata": {
    "collapsed": true
   },
   "outputs": [],
   "source": [
    "def sentence_length_forward(paragraph, i):\n",
    "    if i >= len(paragraph):\n",
    "        return 0\n",
    "    \n",
    "    n_words = 0\n",
    "    flag = paragraph[i].isspace()\n",
    "    \n",
    "    while i < len(paragraph) and (paragraph[i].isalnum() or paragraph[i].isspace()):\n",
    "        if paragraph[i].isspace() and not flag:\n",
    "            n_words += 1\n",
    "        flag = paragraph[i].isspace()\n",
    "        i += 1\n",
    "    \n",
    "    if not flag:\n",
    "        n_words += 1\n",
    "    \n",
    "    return n_words"
   ]
  },
  {
   "cell_type": "code",
   "execution_count": 11,
   "metadata": {
    "collapsed": true
   },
   "outputs": [],
   "source": [
    "def word_length_backward(paragraph, i):\n",
    "    if i < 0:\n",
    "        return 0\n",
    "    \n",
    "    wordlen = 0\n",
    "    while i >= 0 and paragraph[i].isalpha():\n",
    "        wordlen += 1\n",
    "        i -= 1"
   ]
  },
  {
   "cell_type": "code",
   "execution_count": 12,
   "metadata": {
    "collapsed": false
   },
   "outputs": [],
   "source": [
    "def features_endpoint(paragraph, mark, pos):\n",
    "    features = [int(mark == e) for e in ends]\n",
    "    features.append(pos)\n",
    "    \n",
    "    # prev symbols info\n",
    "    idx_prev = pos - 1\n",
    "    \n",
    "    f = idx_prev >= 0 and paragraph[idx_prev].isspace()\n",
    "    features.append(int(f))\n",
    "    \n",
    "    while idx_prev >= 0 and paragraph[idx_prev].isspace():\n",
    "        idx_prev -= 1\n",
    "    \n",
    "    if idx_prev >= 0:\n",
    "        f = []\n",
    "        \n",
    "        f.append(0)\n",
    "        f.append(u'a' <= paragraph[idx_prev] <= u'z' or u'A' <= paragraph[idx_prev] <= u'Z')\n",
    "        f.append(paragraph[idx_prev].isupper())\n",
    "        f.append(paragraph[idx_prev].islower())\n",
    "        f.append(paragraph[idx_prev].isdigit())\n",
    "        f.append(u':' == paragraph[idx_prev])\n",
    "        f.append(u'»' == paragraph[idx_prev])\n",
    "        f.append(u'\"' == paragraph[idx_prev])\n",
    "        f.append(paragraph[idx_prev] in [u'—', u'-'])\n",
    "        f.append(paragraph[idx_prev] in [u')', u'}', u']'])\n",
    "        \n",
    "        wordlen, i = 0, idx_prev\n",
    "        while i >= 0 and paragraph[i].isalpha():\n",
    "            wordlen += 1\n",
    "            i -= 1\n",
    "        f.append(wordlen)\n",
    "        \n",
    "        wordlen, i = 0, idx_prev\n",
    "        while i >= 0 and \\\n",
    "            (paragraph[i].isalpha() or paragraph[i].isnumeric() or paragraph[i] in [u'—', u'-']):\n",
    "            wordlen += 1\n",
    "            i -= 1\n",
    "        f.append(wordlen)\n",
    "        \n",
    "        if i >= 0:\n",
    "            f.append(paragraph[i] in [u'(', u'{', u'['])\n",
    "            f.append(u'«' == paragraph[i])\n",
    "        else:\n",
    "            f.extend([0, 0])\n",
    "            \n",
    "        f.append(paragraph[idx_prev] in end_of_sentences)\n",
    "        f.append(not reduce(lambda x, y: x or y, f))\n",
    "        \n",
    "        features.extend(f)\n",
    "    else:\n",
    "        features.extend([1] + [0] * 15)\n",
    "    \n",
    "    # next symbols info\n",
    "    idx_next = pos + 1\n",
    "    \n",
    "    f = idx_next < len(paragraph) and paragraph[idx_next].isspace()\n",
    "    features.append(int(f))\n",
    "    \n",
    "    while idx_next < len(paragraph) and paragraph[idx_next].isspace():\n",
    "        idx_next += 1\n",
    "        \n",
    "    if idx_next < len(paragraph):\n",
    "        f = []\n",
    "        \n",
    "        f.append(0)\n",
    "        f.append(u'a' <= paragraph[idx_next] <= u'z' or u'A' <= paragraph[idx_next] <= u'Z')\n",
    "        f.append(paragraph[idx_next].isupper())\n",
    "        f.append(paragraph[idx_next].islower())\n",
    "        f.append(paragraph[idx_next].isdigit())\n",
    "        f.append(u':' == paragraph[idx_next])\n",
    "        f.append(u'«' == paragraph[idx_next])\n",
    "        f.append(u'\"' == paragraph[idx_next])\n",
    "        f.append(paragraph[idx_next] in [u'—', u'-'])\n",
    "        f.append(paragraph[idx_next] in [u'(', u'{', u'['])\n",
    "        \n",
    "        wordlen, i = 0, idx_next\n",
    "        while i < len(paragraph) and paragraph[i].isalpha():\n",
    "            wordlen += 1\n",
    "            i += 1\n",
    "        f.append(wordlen)\n",
    "        \n",
    "        wordlen, i = 0, idx_next\n",
    "        while i < len(paragraph) and \\\n",
    "            (paragraph[i].isalpha() or paragraph[i].isnumeric() or paragraph[i] in [u'—', u'-']):\n",
    "            wordlen += 1\n",
    "            i += 1\n",
    "        f.append(wordlen)\n",
    "        \n",
    "        if i < len(paragraph):\n",
    "            f.append(paragraph[i] in [u')', u'}', u']'])\n",
    "            f.append(u'»' == paragraph[i])\n",
    "        else:\n",
    "            f.extend([0, 0])\n",
    "            \n",
    "        f.append(paragraph[idx_next] in end_of_sentences)\n",
    "        f.append(not reduce(lambda x, y: x or y, f))\n",
    "        \n",
    "        features.extend(f)\n",
    "    else:\n",
    "        features.extend([1] + [0] * 15)\n",
    "        \n",
    "    if pos - 5 >= 0:\n",
    "        f = []\n",
    "        f.append(paragraph[pos-4:pos+1] in [u'т.д.', u'т.п.', u'т.к.', u'н.э.'] and paragraph[pos-5].isspace())\n",
    "        f.append(paragraph[pos-3:pos+1] in [u'гг.', u'вв.', u'ул.'] and paragraph[pos-5].isspace())\n",
    "        f.append(paragraph[pos-2:pos+1] in [u'г.', u'в.'] and paragraph[pos-5].isspace())\n",
    "        features.append(reduce(lambda x, y: x or y, f))\n",
    "    else:\n",
    "        features.append(0)\n",
    "    \n",
    "    return features"
   ]
  },
  {
   "cell_type": "code",
   "execution_count": 13,
   "metadata": {
    "collapsed": false
   },
   "outputs": [],
   "source": [
    "X_train, Y_train = [], []\n",
    "\n",
    "for e in train_data[:20000]:\n",
    "    stoppers_nice = get_true_stoppers(e['Paragraph'], e['Sentences'])\n",
    "    stoppers_all  = get_all_stoppers(e['Paragraph'])\n",
    "    \n",
    "    for s in stoppers_all:\n",
    "        X_train.append(features_endpoint(e['Paragraph'], s['Mark'], s['Pos']))\n",
    "        Y_train.append(int(s in stoppers_nice))\n",
    "        \n",
    "X_train = np.asarray(X_train)\n",
    "Y_train = np.asarray(Y_train)"
   ]
  },
  {
   "cell_type": "code",
   "execution_count": 14,
   "metadata": {
    "collapsed": true
   },
   "outputs": [],
   "source": [
    "X_test, Y_test = [], []\n",
    "\n",
    "for e in train_data[20000:]:\n",
    "    stoppers_nice = get_true_stoppers(e['Paragraph'], e['Sentences'])\n",
    "    stoppers_all  = get_all_stoppers(e['Paragraph'])\n",
    "    \n",
    "    for s in stoppers_all:\n",
    "        X_test.append(features_endpoint(e['Paragraph'], s['Mark'], s['Pos']))\n",
    "        Y_test.append(int(s in stoppers_nice))\n",
    "        \n",
    "X_test = np.asarray(X_test)\n",
    "Y_test = np.asarray(Y_test)"
   ]
  },
  {
   "cell_type": "code",
   "execution_count": 15,
   "metadata": {
    "collapsed": false
   },
   "outputs": [
    {
     "data": {
      "text/plain": [
       "RandomForestClassifier(bootstrap=True, class_weight=None, criterion='gini',\n",
       "            max_depth=13, max_features='auto', max_leaf_nodes=None,\n",
       "            min_samples_leaf=1, min_samples_split=2,\n",
       "            min_weight_fraction_leaf=0.0, n_estimators=100, n_jobs=1,\n",
       "            oob_score=False, random_state=None, verbose=0,\n",
       "            warm_start=False)"
      ]
     },
     "execution_count": 15,
     "metadata": {},
     "output_type": "execute_result"
    }
   ],
   "source": [
    "from collections import OrderedDict\n",
    "from operator import itemgetter\n",
    "from sklearn.ensemble import RandomForestClassifier\n",
    "\n",
    "cl = RandomForestClassifier(n_estimators=100, max_depth=13)\n",
    "cl.fit(X_train, Y_train)"
   ]
  },
  {
   "cell_type": "code",
   "execution_count": 16,
   "metadata": {
    "collapsed": true
   },
   "outputs": [],
   "source": [
    "Y_pred = cl.predict(X_test)"
   ]
  },
  {
   "cell_type": "code",
   "execution_count": 17,
   "metadata": {
    "collapsed": false
   },
   "outputs": [
    {
     "data": {
      "text/plain": [
       "0.98236317674730578"
      ]
     },
     "execution_count": 17,
     "metadata": {},
     "output_type": "execute_result"
    }
   ],
   "source": [
    "from sklearn.metrics import roc_auc_score\n",
    "\n",
    "roc_auc_score(Y_test, Y_pred)"
   ]
  },
  {
   "cell_type": "code",
   "execution_count": null,
   "metadata": {
    "collapsed": true
   },
   "outputs": [],
   "source": []
  }
 ],
 "metadata": {
  "kernelspec": {
   "display_name": "Python 2",
   "language": "python",
   "name": "python2"
  },
  "language_info": {
   "codemirror_mode": {
    "name": "ipython",
    "version": 2
   },
   "file_extension": ".py",
   "mimetype": "text/x-python",
   "name": "python",
   "nbconvert_exporter": "python",
   "pygments_lexer": "ipython2",
   "version": "2.7.12"
  }
 },
 "nbformat": 4,
 "nbformat_minor": 0
}
