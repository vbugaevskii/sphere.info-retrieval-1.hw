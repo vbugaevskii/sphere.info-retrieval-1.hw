{
 "cells": [
  {
   "cell_type": "code",
   "execution_count": 1,
   "metadata": {
    "collapsed": true
   },
   "outputs": [],
   "source": [
    "from __future__ import division\n",
    "\n",
    "import json\n",
    "import base64\n",
    "import random\n",
    "from collections import Counter\n",
    "import os.path\n",
    "import imp\n",
    "import gzip\n",
    "\n",
    "import sys\n",
    "import csv\n",
    "import gc\n",
    "\n",
    "import numpy as np\n",
    "import pandas as pd\n",
    "\n",
    "\n",
    "# %matplotlib notebook\n",
    "%matplotlib inline\n",
    "import matplotlib.pyplot as plt\n",
    "\n",
    "\n",
    "import logging\n",
    "reload(logging)\n",
    "logging.basicConfig(format='%(asctime)s %(levelname)s:%(message)s', level=logging.INFO, datefmt='%H:%M:%S')"
   ]
  },
  {
   "cell_type": "code",
   "execution_count": 2,
   "metadata": {
    "collapsed": true
   },
   "outputs": [],
   "source": [
    "def convert2unicode(f):\n",
    "    def tmp(text):\n",
    "        if not isinstance(text, unicode): text = text.decode('utf8')\n",
    "        return f(text)\n",
    "    return tmp\n",
    "\n",
    "def convert2lower(f):\n",
    "    def tmp(text):        \n",
    "        return f(text.lower())\n",
    "    return tmp"
   ]
  },
  {
   "cell_type": "code",
   "execution_count": 3,
   "metadata": {
    "collapsed": false
   },
   "outputs": [],
   "source": [
    "def html2text_bs(raw_html):\n",
    "    from bs4 import BeautifulSoup\n",
    "    \"\"\"\n",
    "    Тут производится извлечения из html текста\n",
    "    \"\"\"\n",
    "    soup = BeautifulSoup(raw_html, \"html.parser\")\n",
    "    \n",
    "    titles = u''\n",
    "    for title in soup.find_all('title'):\n",
    "        titles += title.string + u' ' if title.string else u''\n",
    "        \n",
    "    links = []\n",
    "    anchors = u''\n",
    "    for tag in soup.find_all('a'):\n",
    "        anchors += tag.string + u' ' if tag.string else u''\n",
    "        try:\n",
    "            links.append(tag['href'])\n",
    "        except KeyError:\n",
    "            pass\n",
    "        \n",
    "    keywords = u''\n",
    "    for key in soup.find_all(\"meta\", attrs={\"name\":\"keywords\"}):\n",
    "        try:\n",
    "            keywords += key['content'] + u' ' if key['content'] else u''\n",
    "        except KeyError:\n",
    "            pass\n",
    "        \n",
    "    [s.extract() for s in soup(['script', 'style'])]\n",
    "    return soup.get_text(), titles, anchors, links, keywords"
   ]
  },
  {
   "cell_type": "code",
   "execution_count": 4,
   "metadata": {
    "collapsed": false
   },
   "outputs": [],
   "source": [
    "@convert2lower\n",
    "@convert2unicode\n",
    "def easy_tokenizer(text):\n",
    "    word = unicode()\n",
    "    for symbol in text:\n",
    "        if symbol.isalnum(): word += symbol\n",
    "        elif word:\n",
    "            yield word\n",
    "            word = unicode()\n",
    "    if word: yield word"
   ]
  },
  {
   "cell_type": "code",
   "execution_count": 5,
   "metadata": {
    "collapsed": false
   },
   "outputs": [],
   "source": [
    "def html2word(raw_html, to_text=html2text_bs, tokenizer=easy_tokenizer):\n",
    "    text, title, anchors, links, keywords = to_text(raw_html)\n",
    "    return list(tokenizer(text.lower())), list(tokenizer(title.lower())), \\\n",
    "        list(tokenizer(anchors.lower())), links, list(tokenizer(keywords.lower()))"
   ]
  },
  {
   "cell_type": "code",
   "execution_count": 6,
   "metadata": {
    "collapsed": true
   },
   "outputs": [],
   "source": [
    "def file2docs_csv(input_file_name, reparse=False):    \n",
    "    result = []\n",
    "    \n",
    "    if os.path.exists(input_file_name + \".json\") and not reparse:\n",
    "        logging.info(\"File %s.json already exists - load it\" % input_file_name)\n",
    "        result = json.load(open(input_file_name + \".json\", 'rb'))\n",
    "    else:                                \n",
    "        with gzip.open(input_file_name) if input_file_name.endswith('gz') \\\n",
    "            else open(input_file_name)  as input_file:            \n",
    "            headers = input_file.readline()\n",
    "            try:\n",
    "                for i, line in enumerate(input_file):\n",
    "\n",
    "                    parts = line.strip().split('\\t')\n",
    "                    url_id = int(parts[0])                                        \n",
    "                    mark = bool(int(parts[1]))                    \n",
    "                    url = parts[2]\n",
    "                    pageInb64 = parts[3]\n",
    "                    html_data = base64.b64decode(pageInb64)                \n",
    "                    words, title, anchors, links, keywords = html2word(html_data)\n",
    "\n",
    "                    result.append( (url_id, mark, url, words, title, anchors, links, keywords))  \n",
    "                    if i % 100 == 0: logging.info(\"Complete %04d\" % i)\n",
    "            except:\n",
    "                print i, parts                \n",
    "                raise\n",
    "\n",
    "                    \n",
    "        logging.info(\"Complete %04d\" % i)\n",
    "        logging.info(\"Create json dump %s\" % (input_file_name + \".json\"))\n",
    "        json.dump(result, open(input_file_name + \".json\", 'wb'))\n",
    "    return result"
   ]
  },
  {
   "cell_type": "code",
   "execution_count": 7,
   "metadata": {
    "collapsed": true
   },
   "outputs": [],
   "source": [
    "import sys\n",
    "import zlib\n",
    "\n",
    "def calc_stats(words, title, anchors):\n",
    "    words_str = ''.join(words).encode('utf-8')\n",
    "    compress_coeff = sys.getsizeof(zlib.compress(words_str)) * 1.0 /sys.getsizeof(words_str)\n",
    "    \n",
    "    return [len(words), np.mean(map(len, words)),\n",
    "            len(title), len(anchors),\n",
    "            compress_coeff]"
   ]
  },
  {
   "cell_type": "code",
   "execution_count": 8,
   "metadata": {
    "collapsed": false
   },
   "outputs": [],
   "source": [
    "def get_n_grams(url, window=5):\n",
    "    return set(url[i:i+window] for i in range(0, len(url) - window, 1))"
   ]
  },
  {
   "cell_type": "code",
   "execution_count": 9,
   "metadata": {
    "collapsed": false
   },
   "outputs": [
    {
     "data": {
      "text/plain": [
       "[u'whistkeruso',\n",
       " u'narod',\n",
       " u'ru',\n",
       " u'prostitutki',\n",
       " u'shlyuhi',\n",
       " u'deshevie',\n",
       " u'moskvi',\n",
       " u'html']"
      ]
     },
     "execution_count": 9,
     "metadata": {},
     "output_type": "execute_result"
    }
   ],
   "source": [
    "from urllib import unquote\n",
    "from urlparse import urlparse\n",
    "import re\n",
    "\n",
    "def parse_url(url):\n",
    "    url_parsed = urlparse(url)\n",
    "    parts = [] \n",
    "    parts.extend(url_parsed.netloc.split('.'))\n",
    "    parts.extend(re.split(r'[-_/.]', url_parsed.path))\n",
    "    return [p for p in parts if p != '']\n",
    "\n",
    "url = u'http://whistkeruso.narod.ru/prostitutki-shlyuhi-deshevie-moskvi.html'\n",
    "parse_url(url)"
   ]
  },
  {
   "cell_type": "markdown",
   "metadata": {},
   "source": [
    "## Experiments"
   ]
  },
  {
   "cell_type": "code",
   "execution_count": 10,
   "metadata": {
    "collapsed": false
   },
   "outputs": [
    {
     "name": "stderr",
     "output_type": "stream",
     "text": [
      "23:30:04 INFO:File kaggle/kaggle_train_data_tab.csv.gz.json already exists - load it\n"
     ]
    }
   ],
   "source": [
    "TRAIN_DATA_FILE  = 'kaggle/kaggle_train_data_tab.csv.gz'\n",
    "train_docs = file2docs_csv(TRAIN_DATA_FILE, reparse=False)"
   ]
  },
  {
   "cell_type": "code",
   "execution_count": 11,
   "metadata": {
    "collapsed": false
   },
   "outputs": [
    {
     "data": {
      "text/plain": [
       "7044"
      ]
     },
     "execution_count": 11,
     "metadata": {},
     "output_type": "execute_result"
    }
   ],
   "source": [
    "len(train_docs)"
   ]
  },
  {
   "cell_type": "code",
   "execution_count": 12,
   "metadata": {
    "collapsed": true
   },
   "outputs": [],
   "source": [
    "random.shuffle(train_docs)"
   ]
  },
  {
   "cell_type": "code",
   "execution_count": 13,
   "metadata": {
    "collapsed": false
   },
   "outputs": [],
   "source": [
    "titles      = {'train': [], 'test': []}\n",
    "urls_raw    = {'train': [], 'test': []}\n",
    "# keywords    = {'train': [], 'test': []}"
   ]
  },
  {
   "cell_type": "markdown",
   "metadata": {},
   "source": [
    "### FEATURE: stats"
   ]
  },
  {
   "cell_type": "code",
   "execution_count": 14,
   "metadata": {
    "collapsed": false,
    "scrolled": false
   },
   "outputs": [],
   "source": [
    "X_train, Y_train = [], []\n",
    "\n",
    "for doc in train_docs[:6000]:\n",
    "    doc_id, is_spam, url, words_, title, anchors, links, keywords_ = doc\n",
    "    \n",
    "    title = [w[:5] for w in title]\n",
    "    \n",
    "    X_train.append(calc_stats(words_, title, anchors))\n",
    "    \n",
    "    titles['train'].append(' '.join(title))\n",
    "    urls_raw['train'].append(url)\n",
    "    # keywords['train'].append(' '.join(keywords_))\n",
    "    \n",
    "    Y_train.append(is_spam)\n",
    "    \n",
    "X_train = np.asarray(X_train)"
   ]
  },
  {
   "cell_type": "code",
   "execution_count": 15,
   "metadata": {
    "collapsed": false
   },
   "outputs": [],
   "source": [
    "X_test, Y_test = [], []\n",
    "\n",
    "for doc in train_docs[6000:]:\n",
    "    doc_id, is_spam, url, words_, title, anchors, links, keywords_ = doc\n",
    "    \n",
    "    title = [w[:5] for w in title]\n",
    "    \n",
    "    X_test.append(calc_stats(words_, title, anchors))\n",
    "    \n",
    "    titles['test'].append(' '.join(title))\n",
    "    urls_raw['test'].append(url)\n",
    "    # keywords['test'].append(' '.join(keywords_))\n",
    "    \n",
    "    Y_test.append(is_spam)\n",
    "    \n",
    "X_test = np.asarray(X_test)"
   ]
  },
  {
   "cell_type": "code",
   "execution_count": 16,
   "metadata": {
    "collapsed": true
   },
   "outputs": [],
   "source": [
    "def plot_feature(label, column, bins):    \n",
    "    plt.figure()\n",
    "    plt.hist(\n",
    "        np.append(\n",
    "            X_train[np.where(np.asarray(Y_train, dtype=int) == 1)[0], column],\n",
    "            X_test[np.where(np.asarray(Y_test, dtype=int) == 1)[0], column]\n",
    "        ),\n",
    "        color='red', alpha=0.5, label=\"Spam\",\n",
    "        bins=bins\n",
    "    )\n",
    "    \n",
    "    plt.hist(\n",
    "        np.append(\n",
    "            X_train[np.where(np.asarray(Y_train, dtype=int) == 0)[0], column],\n",
    "            X_test[np.where(np.asarray(Y_test, dtype=int) == 0)[0], column]\n",
    "        ),\n",
    "        color='blue', alpha=0.5, label=\"NotSpam\",\n",
    "        bins=bins\n",
    "    )\n",
    "    \n",
    "    if column == -1:\n",
    "        label = label + ', ' + str(X_train.shape[1]-1)\n",
    "    else:\n",
    "        label = label + ', ' + str(column)\n",
    "        \n",
    "    plt.title(label)\n",
    "    plt.legend()\n",
    "    plt.show()"
   ]
  },
  {
   "cell_type": "code",
   "execution_count": 17,
   "metadata": {
    "collapsed": false
   },
   "outputs": [
    {
     "data": {
      "image/png": "[encoded data removed]",
      "text/plain": [
       "<matplotlib.figure.Figure at 0x7f68d6d47c50>"
      ]
     },
     "metadata": {},
     "output_type": "display_data"
    }
   ],
   "source": [
    "plot_feature('num_words', 0, range(0, 3000, 50))"
   ]
  },
  {
   "cell_type": "code",
   "execution_count": 18,
   "metadata": {
    "collapsed": false
   },
   "outputs": [
    {
     "data": {
      "image/png": "[encoded data removed]",
      "text/plain": [
       "<matplotlib.figure.Figure at 0x7f693410d490>"
      ]
     },
     "metadata": {},
     "output_type": "display_data"
    }
   ],
   "source": [
    "plot_feature('avg_word_len', 1, np.arange(0, 14, 0.2))"
   ]
  },
  {
   "cell_type": "code",
   "execution_count": 19,
   "metadata": {
    "collapsed": false
   },
   "outputs": [
    {
     "data": {
      "image/png": "[encoded data removed]",
      "text/plain": [
       "<matplotlib.figure.Figure at 0x7f6934072450>"
      ]
     },
     "metadata": {},
     "output_type": "display_data"
    }
   ],
   "source": [
    "plot_feature('num_words_title', 2, range(0, 50, 1))"
   ]
  },
  {
   "cell_type": "code",
   "execution_count": 20,
   "metadata": {
    "collapsed": false
   },
   "outputs": [
    {
     "data": {
      "image/png": "[encoded data removed]",
      "text/plain": [
       "<matplotlib.figure.Figure at 0x7f6933d1a450>"
      ]
     },
     "metadata": {},
     "output_type": "display_data"
    }
   ],
   "source": [
    "plot_feature('num_words_anchor', 3, range(0, 2000, 25))"
   ]
  },
  {
   "cell_type": "code",
   "execution_count": 21,
   "metadata": {
    "collapsed": false
   },
   "outputs": [
    {
     "data": {
      "image/png": "[encoded data removed]",
      "text/plain": [
       "<matplotlib.figure.Figure at 0x7f69340f4cd0>"
      ]
     },
     "metadata": {},
     "output_type": "display_data"
    }
   ],
   "source": [
    "plot_feature('compress_coef', 4, np.arange(0, 0.8, 0.01))"
   ]
  },
  {
   "cell_type": "markdown",
   "metadata": {},
   "source": [
    "### FEATURE: title"
   ]
  },
  {
   "cell_type": "code",
   "execution_count": 22,
   "metadata": {
    "collapsed": false
   },
   "outputs": [],
   "source": [
    "from sklearn.feature_extraction.text import CountVectorizer, TfidfVectorizer, TfidfTransformer\n",
    "\n",
    "vec = TfidfVectorizer()\n",
    "# vec = CountVectorizer()\n",
    "\n",
    "feature_train = vec.fit_transform(titles['train'])\n",
    "feature_test  = vec.transform(titles['test'])\n",
    "\n",
    "feature_indexes = np.where(feature_train.sum(axis=0) > 10.0)[1]\n",
    "\n",
    "feature_train = feature_train[:, feature_indexes]\n",
    "feature_test  = feature_test[:, feature_indexes]"
   ]
  },
  {
   "cell_type": "code",
   "execution_count": 23,
   "metadata": {
    "collapsed": false
   },
   "outputs": [
    {
     "data": {
      "text/plain": [
       "437"
      ]
     },
     "execution_count": 23,
     "metadata": {},
     "output_type": "execute_result"
    }
   ],
   "source": [
    "feature_train.shape[1]"
   ]
  },
  {
   "cell_type": "code",
   "execution_count": 24,
   "metadata": {
    "collapsed": false
   },
   "outputs": [],
   "source": [
    "X_train = np.hstack((X_train, feature_train.toarray()))\n",
    "X_test  = np.hstack((X_test, feature_test.toarray()))"
   ]
  },
  {
   "cell_type": "markdown",
   "metadata": {},
   "source": [
    "### FEATURE: most frequent words"
   ]
  },
  {
   "cell_type": "code",
   "execution_count": 25,
   "metadata": {
    "collapsed": true
   },
   "outputs": [],
   "source": [
    "words_all = []\n",
    "\n",
    "for doc in train_docs[:6000]:\n",
    "    doc_id, is_spam, url, words_, title, anchors, links, keywords_ = doc\n",
    "    words_all.append(' '.join(words_))\n",
    "\n",
    "for doc in train_docs[6000:]:\n",
    "    doc_id, is_spam, url, words_, title, anchors, links, keywords_ = doc\n",
    "    words_all.append(' '.join(words_))"
   ]
  },
  {
   "cell_type": "code",
   "execution_count": 26,
   "metadata": {
    "collapsed": false
   },
   "outputs": [
    {
     "data": {
      "text/plain": [
       "(7044, 647952)"
      ]
     },
     "execution_count": 26,
     "metadata": {},
     "output_type": "execute_result"
    }
   ],
   "source": [
    "vec = CountVectorizer()\n",
    "\n",
    "words_all = vec.fit_transform(words_all)\n",
    "words_all.shape"
   ]
  },
  {
   "cell_type": "code",
   "execution_count": 27,
   "metadata": {
    "collapsed": true
   },
   "outputs": [],
   "source": [
    "n = 700.0\n",
    "\n",
    "words_most_frequent = np.asarray(words_all.sum(axis=0)).reshape(-1)\n",
    "words_most_frequent = words_most_frequent.argsort()[-int(n):]\n",
    "words_most_frequent.sort()\n",
    "\n",
    "feature_train = words_all[:6000, words_most_frequent]\n",
    "feature_train = feature_train.sum(axis=1)\n",
    "feature_train = np.asarray(feature_train)\n",
    "\n",
    "feature_test = words_all[6000:, words_most_frequent]\n",
    "feature_test = feature_test.sum(axis=1)\n",
    "feature_test = np.asarray(feature_test)"
   ]
  },
  {
   "cell_type": "code",
   "execution_count": 28,
   "metadata": {
    "collapsed": false
   },
   "outputs": [],
   "source": [
    "X_train = np.hstack((X_train, feature_train))\n",
    "X_test  = np.hstack((X_test, feature_test))"
   ]
  },
  {
   "cell_type": "code",
   "execution_count": 29,
   "metadata": {
    "collapsed": false
   },
   "outputs": [
    {
     "data": {
      "image/png": "[encoded data removed]",
      "text/plain": [
       "<matplotlib.figure.Figure at 0x7f6926d47690>"
      ]
     },
     "metadata": {},
     "output_type": "display_data"
    }
   ],
   "source": [
    "plot_feature('words_most_frequent', -1, np.arange(0, 2000, 3e1))"
   ]
  },
  {
   "cell_type": "code",
   "execution_count": 30,
   "metadata": {
    "collapsed": false
   },
   "outputs": [],
   "source": [
    "feature_train = words_all[:6000, words_most_frequent]\n",
    "feature_train /= feature_train\n",
    "feature_train = np.nan_to_num(feature_train)\n",
    "feature_train = feature_train.mean(axis=1)\n",
    "feature_train = np.asarray(feature_train)\n",
    "\n",
    "feature_test = words_all[6000:, words_most_frequent]\n",
    "feature_test /= feature_test\n",
    "feature_test = np.nan_to_num(feature_test)\n",
    "feature_test = feature_test.mean(axis=1)\n",
    "feature_test = np.asarray(feature_test)"
   ]
  },
  {
   "cell_type": "code",
   "execution_count": 31,
   "metadata": {
    "collapsed": true
   },
   "outputs": [],
   "source": [
    "X_train = np.hstack((X_train, feature_train))\n",
    "X_test  = np.hstack((X_test, feature_test))"
   ]
  },
  {
   "cell_type": "code",
   "execution_count": 32,
   "metadata": {
    "collapsed": false
   },
   "outputs": [
    {
     "data": {
      "image/png": "[encoded data removed]",
      "text/plain": [
       "<matplotlib.figure.Figure at 0x7f69268d1790>"
      ]
     },
     "metadata": {},
     "output_type": "display_data"
    }
   ],
   "source": [
    "plot_feature('words_most_frequent_portion', -1, np.arange(0, 1, .01))"
   ]
  },
  {
   "cell_type": "code",
   "execution_count": 33,
   "metadata": {
    "collapsed": true
   },
   "outputs": [],
   "source": [
    "vec = TfidfTransformer()\n",
    "\n",
    "vec.fit(words_all[:, words_most_frequent])\n",
    "\n",
    "feature_train = vec.transform(words_all[:6000, words_most_frequent])\n",
    "feature_test  = vec.transform(words_all[6000:, words_most_frequent])"
   ]
  },
  {
   "cell_type": "code",
   "execution_count": 34,
   "metadata": {
    "collapsed": false
   },
   "outputs": [
    {
     "data": {
      "text/plain": [
       "700"
      ]
     },
     "execution_count": 34,
     "metadata": {},
     "output_type": "execute_result"
    }
   ],
   "source": [
    "feature_train.shape[1]"
   ]
  },
  {
   "cell_type": "code",
   "execution_count": 35,
   "metadata": {
    "collapsed": false
   },
   "outputs": [],
   "source": [
    "X_train = np.hstack((X_train, feature_train.toarray()))\n",
    "X_test  = np.hstack((X_test, feature_test.toarray()))"
   ]
  },
  {
   "cell_type": "code",
   "execution_count": 36,
   "metadata": {
    "collapsed": true
   },
   "outputs": [],
   "source": [
    "del words_all"
   ]
  },
  {
   "cell_type": "markdown",
   "metadata": {},
   "source": [
    "### FEATURE: ngrams independence"
   ]
  },
  {
   "cell_type": "code",
   "execution_count": 37,
   "metadata": {
    "collapsed": true
   },
   "outputs": [],
   "source": [
    "def measure_ngram_independence(ngrams):\n",
    "    probs = np.asarray(Counter(ngrams).values(), dtype=float) / len(ngrams)\n",
    "    measure = -np.mean(np.log(probs))\n",
    "    return measure"
   ]
  },
  {
   "cell_type": "code",
   "execution_count": 38,
   "metadata": {
    "collapsed": false
   },
   "outputs": [],
   "source": [
    "feature_train = []\n",
    "    \n",
    "for doc in train_docs[:6000]:\n",
    "    doc_id, is_spam, url, words_, title, anchors, links, keywords_ = doc\n",
    "    ngr = get_n_grams(' '.join(words_), window=7)\n",
    "    feature_train.append(measure_ngram_independence(ngr))\n",
    "    \n",
    "feature_train = np.asarray(feature_train).reshape(-1, 1)\n",
    "\n",
    "feature_test  = []\n",
    "\n",
    "for doc in train_docs[6000:]:\n",
    "    doc_id, is_spam, url, words_, title, anchors, links, keywords_ = doc\n",
    "    ngr = get_n_grams(' '.join(words_), window=7)\n",
    "    feature_test.append(measure_ngram_independence(ngr))\n",
    "\n",
    "feature_test = np.asarray(feature_test).reshape(-1, 1)"
   ]
  },
  {
   "cell_type": "code",
   "execution_count": 39,
   "metadata": {
    "collapsed": false
   },
   "outputs": [],
   "source": [
    "X_train = np.hstack((X_train, feature_train))\n",
    "X_test  = np.hstack((X_test, feature_test))"
   ]
  },
  {
   "cell_type": "code",
   "execution_count": 40,
   "metadata": {
    "collapsed": false
   },
   "outputs": [
    {
     "data": {
      "image/png": "[encoded data removed]",
      "text/plain": [
       "<matplotlib.figure.Figure at 0x7f69339f0d90>"
      ]
     },
     "metadata": {},
     "output_type": "display_data"
    }
   ],
   "source": [
    "plot_feature('ngrams_independence', -1, np.arange(0, 14, .2))"
   ]
  },
  {
   "cell_type": "markdown",
   "metadata": {},
   "source": [
    "### FEATURE: anchor links inside domen"
   ]
  },
  {
   "cell_type": "code",
   "execution_count": 41,
   "metadata": {
    "collapsed": false
   },
   "outputs": [],
   "source": [
    "feature_train = []\n",
    "\n",
    "for doc in train_docs[:6000]:\n",
    "    doc_id, is_spam, url, words_, title, anchors, links, keywords_ = doc\n",
    "    try:\n",
    "        feature_train.append(\n",
    "            map(lambda x: urlparse(x).netloc, links).count(urlparse(url).netloc) / float(len(links))\n",
    "        )\n",
    "    except ZeroDivisionError:\n",
    "        feature_train.append(0)\n",
    "        \n",
    "feature_test = []\n",
    "\n",
    "for doc in train_docs[6000:]:\n",
    "    doc_id, is_spam, url, words_, title, anchors, links, keywords_ = doc\n",
    "    try:\n",
    "        feature_test.append(\n",
    "            map(lambda x: urlparse(x).netloc, links).count(urlparse(url).netloc) / float(len(links))\n",
    "        )\n",
    "    except ZeroDivisionError:\n",
    "        feature_test.append(0)"
   ]
  },
  {
   "cell_type": "code",
   "execution_count": 42,
   "metadata": {
    "collapsed": true
   },
   "outputs": [],
   "source": [
    "feature_train = np.asarray(feature_train).reshape(-1, 1)\n",
    "feature_test  = np.asarray(feature_test).reshape(-1, 1)"
   ]
  },
  {
   "cell_type": "code",
   "execution_count": 43,
   "metadata": {
    "collapsed": false
   },
   "outputs": [],
   "source": [
    "X_train = np.hstack((X_train, feature_train))\n",
    "X_test  = np.hstack((X_test, feature_test))"
   ]
  },
  {
   "cell_type": "code",
   "execution_count": 44,
   "metadata": {
    "collapsed": false
   },
   "outputs": [
    {
     "data": {
      "image/png": "[encoded data removed]",
      "text/plain": [
       "<matplotlib.figure.Figure at 0x7f6933a0dc90>"
      ]
     },
     "metadata": {},
     "output_type": "display_data"
    }
   ],
   "source": [
    "plot_feature('anchor_links_and_domen', -1, 50)"
   ]
  },
  {
   "cell_type": "markdown",
   "metadata": {},
   "source": [
    "### FEATURE: words in urls"
   ]
  },
  {
   "cell_type": "code",
   "execution_count": 45,
   "metadata": {
    "collapsed": false
   },
   "outputs": [],
   "source": [
    "vec = CountVectorizer()\n",
    "\n",
    "feature_train = vec.fit_transform(map(lambda x: ' '.join(parse_url(x)), urls_raw['train']))\n",
    "feature_test  = vec.transform(map(lambda x: ' '.join(parse_url(x)), urls_raw['test']))\n",
    "\n",
    "feature_indexes = np.where(feature_train.sum(axis=0) > 10.0)[1]\n",
    "\n",
    "feature_train = feature_train[:, feature_indexes]\n",
    "feature_test  = feature_test[:, feature_indexes]"
   ]
  },
  {
   "cell_type": "code",
   "execution_count": 46,
   "metadata": {
    "collapsed": false
   },
   "outputs": [
    {
     "data": {
      "text/plain": [
       "300"
      ]
     },
     "execution_count": 46,
     "metadata": {},
     "output_type": "execute_result"
    }
   ],
   "source": [
    "feature_train.shape[1]"
   ]
  },
  {
   "cell_type": "code",
   "execution_count": 47,
   "metadata": {
    "collapsed": true
   },
   "outputs": [],
   "source": [
    "X_train = np.hstack((X_train, feature_train.toarray()))\n",
    "X_test  = np.hstack((X_test, feature_test.toarray()))"
   ]
  },
  {
   "cell_type": "markdown",
   "metadata": {},
   "source": [
    "### FEATURE: urls ratio"
   ]
  },
  {
   "cell_type": "code",
   "execution_count": 48,
   "metadata": {
    "collapsed": true
   },
   "outputs": [],
   "source": [
    "def url_ratio(url):    \n",
    "    url_parsed = urlparse(url)\n",
    "    parts = re.split(r'[-_/.]', url_parsed.path)\n",
    "    \n",
    "    parts = np.asarray([len(p) for p in parts if p != ''], dtype=float)\n",
    "    if len(parts) == 0:\n",
    "        return 0\n",
    "    return np.mean(parts / len(url))"
   ]
  },
  {
   "cell_type": "code",
   "execution_count": 49,
   "metadata": {
    "collapsed": true
   },
   "outputs": [],
   "source": [
    "feature_train = np.asarray(map(url_ratio, urls_raw['train'])).reshape(-1, 1)\n",
    "feature_test  = np.asarray(map(url_ratio, urls_raw['test'])).reshape(-1, 1)"
   ]
  },
  {
   "cell_type": "code",
   "execution_count": 50,
   "metadata": {
    "collapsed": true
   },
   "outputs": [],
   "source": [
    "X_train = np.hstack((X_train, feature_train))\n",
    "X_test  = np.hstack((X_test, feature_test))"
   ]
  },
  {
   "cell_type": "code",
   "execution_count": 51,
   "metadata": {
    "collapsed": false
   },
   "outputs": [
    {
     "data": {
      "image/png": "[encoded data removed]",
      "text/plain": [
       "<matplotlib.figure.Figure at 0x7f69266dee50>"
      ]
     },
     "metadata": {},
     "output_type": "display_data"
    }
   ],
   "source": [
    "plot_feature('url_ratio', -1, np.arange(0, .5, .01))"
   ]
  },
  {
   "cell_type": "code",
   "execution_count": 52,
   "metadata": {
    "collapsed": true
   },
   "outputs": [],
   "source": [
    "def url_ratio(url):    \n",
    "    url_parsed = urlparse(url)\n",
    "    parts = re.split(r'[/]', url_parsed.path)\n",
    "    return len(parts)"
   ]
  },
  {
   "cell_type": "code",
   "execution_count": 53,
   "metadata": {
    "collapsed": true
   },
   "outputs": [],
   "source": [
    "feature_train = np.asarray(map(url_ratio, urls_raw['train'])).reshape(-1, 1)\n",
    "feature_test  = np.asarray(map(url_ratio, urls_raw['test'])).reshape(-1, 1)"
   ]
  },
  {
   "cell_type": "code",
   "execution_count": 54,
   "metadata": {
    "collapsed": true
   },
   "outputs": [],
   "source": [
    "X_train = np.hstack((X_train, feature_train))\n",
    "X_test  = np.hstack((X_test, feature_test))"
   ]
  },
  {
   "cell_type": "code",
   "execution_count": 55,
   "metadata": {
    "collapsed": false
   },
   "outputs": [
    {
     "data": {
      "image/png": "[encoded data removed]",
      "text/plain": [
       "<matplotlib.figure.Figure at 0x7f6926ce7210>"
      ]
     },
     "metadata": {},
     "output_type": "display_data"
    }
   ],
   "source": [
    "plot_feature('url_ratio', -1, np.arange(1, 11, .5))"
   ]
  },
  {
   "cell_type": "code",
   "execution_count": 56,
   "metadata": {
    "collapsed": true
   },
   "outputs": [],
   "source": [
    "def url_ratio(url):    \n",
    "    url_parsed = urlparse(url)\n",
    "    parts = re.split(r'[/]', url_parsed.path)\n",
    "    return np.mean(map(len, parts))"
   ]
  },
  {
   "cell_type": "code",
   "execution_count": 57,
   "metadata": {
    "collapsed": true
   },
   "outputs": [],
   "source": [
    "feature_train = np.asarray(map(url_ratio, urls_raw['train'])).reshape(-1, 1)\n",
    "feature_test  = np.asarray(map(url_ratio, urls_raw['test'])).reshape(-1, 1)"
   ]
  },
  {
   "cell_type": "code",
   "execution_count": 58,
   "metadata": {
    "collapsed": true
   },
   "outputs": [],
   "source": [
    "X_train = np.hstack((X_train, feature_train))\n",
    "X_test  = np.hstack((X_test, feature_test))"
   ]
  },
  {
   "cell_type": "code",
   "execution_count": 59,
   "metadata": {
    "collapsed": false
   },
   "outputs": [
    {
     "data": {
      "image/png": "[encoded data removed]",
      "text/plain": [
       "<matplotlib.figure.Figure at 0x7f692b382dd0>"
      ]
     },
     "metadata": {},
     "output_type": "display_data"
    }
   ],
   "source": [
    "plot_feature('url_ratio', -1, np.arange(0, 40, 1))"
   ]
  },
  {
   "cell_type": "code",
   "execution_count": 60,
   "metadata": {
    "collapsed": true
   },
   "outputs": [],
   "source": [
    "def url_ratio(url):    \n",
    "    url_parsed = urlparse(url)\n",
    "    parts = re.split(r'[/_]', url_parsed.path)\n",
    "    \n",
    "    parts = np.asarray([len(p) for p in parts if p != ''], dtype=float)\n",
    "    if len(parts) == 0:\n",
    "        return 0\n",
    "    return np.mean(parts / len(url))"
   ]
  },
  {
   "cell_type": "code",
   "execution_count": 61,
   "metadata": {
    "collapsed": false
   },
   "outputs": [],
   "source": [
    "feature_train = np.asarray(map(url_ratio, urls_raw['train'])).reshape(-1, 1)\n",
    "feature_test  = np.asarray(map(url_ratio, urls_raw['test'])).reshape(-1, 1)"
   ]
  },
  {
   "cell_type": "code",
   "execution_count": 62,
   "metadata": {
    "collapsed": false
   },
   "outputs": [],
   "source": [
    "X_train = np.hstack((X_train, feature_train))\n",
    "X_test  = np.hstack((X_test, feature_test))"
   ]
  },
  {
   "cell_type": "code",
   "execution_count": 63,
   "metadata": {
    "collapsed": false
   },
   "outputs": [
    {
     "data": {
      "image/png": "[encoded data removed]",
      "text/plain": [
       "<matplotlib.figure.Figure at 0x7f692666bc50>"
      ]
     },
     "metadata": {},
     "output_type": "display_data"
    }
   ],
   "source": [
    "plot_feature('url_ratio', -1, np.arange(0, .5, .01))"
   ]
  },
  {
   "cell_type": "code",
   "execution_count": 64,
   "metadata": {
    "collapsed": true
   },
   "outputs": [],
   "source": [
    "def url_ratio(url):    \n",
    "    url_parsed = urlparse(url)\n",
    "    parts = re.split(r'[/_]', url_parsed.path)\n",
    "    return len(parts)"
   ]
  },
  {
   "cell_type": "code",
   "execution_count": 65,
   "metadata": {
    "collapsed": false
   },
   "outputs": [],
   "source": [
    "feature_train = np.asarray(map(url_ratio, urls_raw['train'])).reshape(-1, 1)\n",
    "feature_test  = np.asarray(map(url_ratio, urls_raw['test'])).reshape(-1, 1)"
   ]
  },
  {
   "cell_type": "code",
   "execution_count": 66,
   "metadata": {
    "collapsed": false
   },
   "outputs": [],
   "source": [
    "X_train = np.hstack((X_train, feature_train))\n",
    "X_test  = np.hstack((X_test, feature_test))"
   ]
  },
  {
   "cell_type": "code",
   "execution_count": 67,
   "metadata": {
    "collapsed": false
   },
   "outputs": [
    {
     "data": {
      "image/png": "[encoded data removed]",
      "text/plain": [
       "<matplotlib.figure.Figure at 0x7f692b1488d0>"
      ]
     },
     "metadata": {},
     "output_type": "display_data"
    }
   ],
   "source": [
    "plot_feature('url_ratio', -1, np.arange(1, 15, .5))"
   ]
  },
  {
   "cell_type": "code",
   "execution_count": 68,
   "metadata": {
    "collapsed": true
   },
   "outputs": [],
   "source": [
    "def url_ratio(url):\n",
    "    url_parsed = urlparse(url)\n",
    "    return len(url_parsed.netloc) / float(len(url))"
   ]
  },
  {
   "cell_type": "code",
   "execution_count": 69,
   "metadata": {
    "collapsed": true
   },
   "outputs": [],
   "source": [
    "feature_train = np.asarray(map(url_ratio, urls_raw['train'])).reshape(-1, 1)\n",
    "feature_test  = np.asarray(map(url_ratio, urls_raw['test'])).reshape(-1, 1)"
   ]
  },
  {
   "cell_type": "code",
   "execution_count": 70,
   "metadata": {
    "collapsed": true
   },
   "outputs": [],
   "source": [
    "X_train = np.hstack((X_train, feature_train))\n",
    "X_test  = np.hstack((X_test, feature_test))"
   ]
  },
  {
   "cell_type": "code",
   "execution_count": 71,
   "metadata": {
    "collapsed": false
   },
   "outputs": [
    {
     "data": {
      "image/png": "[encoded data removed]",
      "text/plain": [
       "<matplotlib.figure.Figure at 0x7f69338bdf10>"
      ]
     },
     "metadata": {},
     "output_type": "display_data"
    }
   ],
   "source": [
    "plot_feature('url_ratio', -1, np.arange(0, 1, .02))"
   ]
  },
  {
   "cell_type": "code",
   "execution_count": 72,
   "metadata": {
    "collapsed": true
   },
   "outputs": [],
   "source": [
    "def url_ratio(url):    \n",
    "    url_parsed = urlparse(url)\n",
    "    parts = re.split(r'[-]', url_parsed.path)\n",
    "    return len(parts)"
   ]
  },
  {
   "cell_type": "code",
   "execution_count": 73,
   "metadata": {
    "collapsed": false
   },
   "outputs": [],
   "source": [
    "feature_train = np.asarray(map(url_ratio, urls_raw['train'])).reshape(-1, 1)\n",
    "feature_test  = np.asarray(map(url_ratio, urls_raw['test'])).reshape(-1, 1)"
   ]
  },
  {
   "cell_type": "code",
   "execution_count": 74,
   "metadata": {
    "collapsed": true
   },
   "outputs": [],
   "source": [
    "X_train = np.hstack((X_train, feature_train))\n",
    "X_test  = np.hstack((X_test, feature_test))"
   ]
  },
  {
   "cell_type": "code",
   "execution_count": 75,
   "metadata": {
    "collapsed": false
   },
   "outputs": [
    {
     "data": {
      "image/png": "[encoded data removed]",
      "text/plain": [
       "<matplotlib.figure.Figure at 0x7f692690e450>"
      ]
     },
     "metadata": {},
     "output_type": "display_data"
    }
   ],
   "source": [
    "plot_feature('url_ratio', -1, np.arange(0, 15, .5))"
   ]
  },
  {
   "cell_type": "code",
   "execution_count": 76,
   "metadata": {
    "collapsed": true
   },
   "outputs": [],
   "source": [
    "def url_ratio(url):    \n",
    "    url_parsed = urlparse(url)\n",
    "    parts = re.split(r'[-]', url_parsed.path)\n",
    "    return np.mean(map(len, parts))"
   ]
  },
  {
   "cell_type": "code",
   "execution_count": 77,
   "metadata": {
    "collapsed": true
   },
   "outputs": [],
   "source": [
    "feature_train = np.asarray(map(url_ratio, urls_raw['train'])).reshape(-1, 1)\n",
    "feature_test  = np.asarray(map(url_ratio, urls_raw['test'])).reshape(-1, 1)"
   ]
  },
  {
   "cell_type": "code",
   "execution_count": 78,
   "metadata": {
    "collapsed": true
   },
   "outputs": [],
   "source": [
    "X_train = np.hstack((X_train, feature_train))\n",
    "X_test  = np.hstack((X_test, feature_test))"
   ]
  },
  {
   "cell_type": "code",
   "execution_count": 79,
   "metadata": {
    "collapsed": false
   },
   "outputs": [
    {
     "data": {
      "image/png": "[encoded data removed]",
      "text/plain": [
       "<matplotlib.figure.Figure at 0x7f6926d69850>"
      ]
     },
     "metadata": {},
     "output_type": "display_data"
    }
   ],
   "source": [
    "plot_feature('url_ratio', -1, np.arange(0, 40, 1))"
   ]
  },
  {
   "cell_type": "markdown",
   "metadata": {},
   "source": [
    "### PREDICTION"
   ]
  },
  {
   "cell_type": "code",
   "execution_count": 80,
   "metadata": {
    "collapsed": false
   },
   "outputs": [
    {
     "data": {
      "text/plain": [
       "((6000, 1454), (1044, 1454))"
      ]
     },
     "execution_count": 80,
     "metadata": {},
     "output_type": "execute_result"
    }
   ],
   "source": [
    "X_train.shape, X_test.shape"
   ]
  },
  {
   "cell_type": "code",
   "execution_count": 81,
   "metadata": {
    "collapsed": false
   },
   "outputs": [
    {
     "data": {
      "text/plain": [
       "GradientBoostingClassifier(init=None, learning_rate=0.3, loss='deviance',\n",
       "              max_depth=7, max_features=None, max_leaf_nodes=None,\n",
       "              min_samples_leaf=1, min_samples_split=2,\n",
       "              min_weight_fraction_leaf=0.0, n_estimators=100,\n",
       "              presort='auto', random_state=None, subsample=1.0, verbose=0,\n",
       "              warm_start=False)"
      ]
     },
     "execution_count": 81,
     "metadata": {},
     "output_type": "execute_result"
    }
   ],
   "source": [
    "from sklearn.ensemble import GradientBoostingClassifier as GBC\n",
    "\n",
    "cl = GBC(learning_rate=0.3, max_depth=7, n_estimators=100)\n",
    "cl.fit(X_train, Y_train)"
   ]
  },
  {
   "cell_type": "code",
   "execution_count": 82,
   "metadata": {
    "collapsed": false
   },
   "outputs": [],
   "source": [
    "Y_pred = cl.predict(X_test)"
   ]
  },
  {
   "cell_type": "code",
   "execution_count": 83,
   "metadata": {
    "collapsed": false
   },
   "outputs": [
    {
     "data": {
      "text/plain": [
       "0.97643097643097643"
      ]
     },
     "execution_count": 83,
     "metadata": {},
     "output_type": "execute_result"
    }
   ],
   "source": [
    "from sklearn.metrics import f1_score\n",
    "\n",
    "f1_score(Y_test, Y_pred, average='binary')"
   ]
  },
  {
   "cell_type": "code",
   "execution_count": 84,
   "metadata": {
    "collapsed": false
   },
   "outputs": [
    {
     "data": {
      "text/plain": [
       "array([1451, 1286,  472, 1383,    3, 1449,  473, 1448, 1004,  442,  839,\n",
       "          1, 1453, 1342,    4,  522, 1145, 1446, 1435,    0,  841, 1321,\n",
       "       1447, 1284,  914,  793,  521,  741, 1029, 1288,  319,  903,  686,\n",
       "       1450,  985,  497,  997, 1121,  640,  454,  250,  796,  854,  900,\n",
       "       1144, 1452,  539,  818, 1413, 1044,  829,  716,  457,  444,  362,\n",
       "        687, 1346,  901,  206,  160, 1062,  190,  443,  862,  780,  524,\n",
       "       1372, 1123,  746,  608,  711,  469,   62,  455,  830,  866,  322,\n",
       "       1026, 1083,  321,  888,  508,  920, 1349,  320,   25,  855,  558,\n",
       "        761, 1285,  863,  939,  448, 1100, 1118,  258,  565,  541,  884,\n",
       "       1241])"
      ]
     },
     "execution_count": 84,
     "metadata": {},
     "output_type": "execute_result"
    }
   ],
   "source": [
    "importance = cl.feature_importances_\n",
    "importance.argsort()[-100:][::-1]"
   ]
  },
  {
   "cell_type": "code",
   "execution_count": 86,
   "metadata": {
    "collapsed": false
   },
   "outputs": [
    {
     "data": {
      "text/plain": [
       "[<matplotlib.lines.Line2D at 0x7f6933b85e10>]"
      ]
     },
     "execution_count": 86,
     "metadata": {},
     "output_type": "execute_result"
    },
    {
     "data": {
      "image/png": "[encoded data removed]",
      "text/plain": [
       "<matplotlib.figure.Figure at 0x7f6926da3ad0>"
      ]
     },
     "metadata": {},
     "output_type": "display_data"
    }
   ],
   "source": [
    "plt.plot(importance)"
   ]
  },
  {
   "cell_type": "code",
   "execution_count": null,
   "metadata": {
    "collapsed": true
   },
   "outputs": [],
   "source": []
  }
 ],
 "metadata": {
  "kernelspec": {
   "display_name": "Python 2",
   "language": "python",
   "name": "python2"
  },
  "language_info": {
   "codemirror_mode": {
    "name": "ipython",
    "version": 2
   },
   "file_extension": ".py",
   "mimetype": "text/x-python",
   "name": "python",
   "nbconvert_exporter": "python",
   "pygments_lexer": "ipython2",
   "version": "2.7.12"
  }
 },
 "nbformat": 4,
 "nbformat_minor": 0
}
